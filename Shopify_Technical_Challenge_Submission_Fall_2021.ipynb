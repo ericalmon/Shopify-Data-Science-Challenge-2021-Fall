{
  "nbformat": 4,
  "nbformat_minor": 0,
  "metadata": {
    "colab": {
      "name": "Shopify Technical Challenge Submission Fall 2021.ipynb",
      "provenance": [],
      "authorship_tag": "ABX9TyNH+KXNent1YsYkgqeSJ+BM",
      "include_colab_link": true
    },
    "kernelspec": {
      "name": "python3",
      "display_name": "Python 3"
    },
    "language_info": {
      "name": "python"
    }
  },
  "cells": [
    {
      "cell_type": "markdown",
      "metadata": {
        "id": "view-in-github",
        "colab_type": "text"
      },
      "source": [
        "<a href=\"https://colab.research.google.com/github/ericalmon/Shopify-Data-Science-Challenge-2021-Fall/blob/main/Shopify_Technical_Challenge_Submission_Fall_2021.ipynb\" target=\"_parent\"><img src=\"https://colab.research.google.com/assets/colab-badge.svg\" alt=\"Open In Colab\"/></a>"
      ]
    },
    {
      "cell_type": "code",
      "metadata": {
        "colab": {
          "base_uri": "https://localhost:8080/"
        },
        "id": "JA6DCChxwUac",
        "outputId": "08fd9865-7bd6-4106-916e-f77d52c81ae3"
      },
      "source": [
        "pip install outlier_utils"
      ],
      "execution_count": 2,
      "outputs": [
        {
          "output_type": "stream",
          "text": [
            "Collecting outlier_utils\n",
            "  Downloading https://files.pythonhosted.org/packages/b1/b6/686a53fbf3fb4c6fd912cca01999d9e9da90a83756040223a16afd2ed578/outlier_utils-0.0.3-py3-none-any.whl\n",
            "Installing collected packages: outlier-utils\n",
            "Successfully installed outlier-utils-0.0.3\n"
          ],
          "name": "stdout"
        }
      ]
    },
    {
      "cell_type": "code",
      "metadata": {
        "id": "Trer-Pd8eWXP",
        "colab": {
          "base_uri": "https://localhost:8080/"
        },
        "outputId": "990b9458-3cfb-4695-ed46-364ac4e4d298"
      },
      "source": [
        "import pandas as pd\n",
        "import matplotlib.pyplot as plt\n",
        "from google.colab import drive\n",
        "drive.mount('/content/drive/')\n",
        "PATH = \"/content/drive/MyDrive/Colab Notebooks/Shopify_2021_Fall\"\n",
        "%cd /content/drive/MyDrive/Colab Notebooks/Shopify_2021_Fall"
      ],
      "execution_count": 3,
      "outputs": [
        {
          "output_type": "stream",
          "text": [
            "Mounted at /content/drive/\n",
            "/content/drive/MyDrive/Colab Notebooks/Shopify_2021_Fall\n"
          ],
          "name": "stdout"
        }
      ]
    },
    {
      "cell_type": "markdown",
      "metadata": {
        "id": "j4gzOpeLexT_"
      },
      "source": [
        "Immediately, I take issue with how AOV is used as there are transactions across multiple shops instead of one shop with similiarly price items (such as a beauty products, for example).\n",
        "\n",
        "We'll first use the describe() function to give a high level overview of the data. From first blush, there seems to be an extreme outlier at 704,000 under \"order_amount\". "
      ]
    },
    {
      "cell_type": "code",
      "metadata": {
        "colab": {
          "base_uri": "https://localhost:8080/"
        },
        "id": "R_y1QU7xeaQm",
        "outputId": "31f3eb0d-84d7-4161-f1cf-410db394a91a"
      },
      "source": [
        "df = pd.read_excel('Shopify_dataset.xlsx')\n",
        "df.describe(percentiles=[.25, .5, .75, .95])['order_amount']"
      ],
      "execution_count": 4,
      "outputs": [
        {
          "output_type": "execute_result",
          "data": {
            "text/plain": [
              "count      5000.000000\n",
              "mean       3145.128000\n",
              "std       41282.539349\n",
              "min          90.000000\n",
              "25%         163.000000\n",
              "50%         284.000000\n",
              "75%         390.000000\n",
              "95%         640.000000\n",
              "max      704000.000000\n",
              "Name: order_amount, dtype: float64"
            ]
          },
          "metadata": {
            "tags": []
          },
          "execution_count": 4
        }
      ]
    },
    {
      "cell_type": "markdown",
      "metadata": {
        "id": "uoLDquoqe_6y"
      },
      "source": [
        "Let's visualize the order amount dataset. \n",
        "\n"
      ]
    },
    {
      "cell_type": "code",
      "metadata": {
        "id": "RxIwStIXe91H",
        "colab": {
          "base_uri": "https://localhost:8080/",
          "height": 564
        },
        "outputId": "15810ce7-3c6d-4eb0-921a-4ae2f93ce91e"
      },
      "source": [
        "df.boxplot(column='order_amount')\n",
        "df.hist(column='order_amount', bins=10)"
      ],
      "execution_count": 5,
      "outputs": [
        {
          "output_type": "execute_result",
          "data": {
            "text/plain": [
              "array([[<matplotlib.axes._subplots.AxesSubplot object at 0x7f6d92d088d0>]],\n",
              "      dtype=object)"
            ]
          },
          "metadata": {
            "tags": []
          },
          "execution_count": 5
        },
        {
          "output_type": "display_data",
          "data": {
            "image/png": "[encoded data removed]",
            "text/plain": [
              "<Figure size 432x288 with 1 Axes>"
            ]
          },
          "metadata": {
            "tags": [],
            "needs_background": "light"
          }
        },
        {
          "output_type": "display_data",
          "data": {
            "image/png": "[encoded data removed]",
            "text/plain": [
              "<Figure size 432x288 with 1 Axes>"
            ]
          },
          "metadata": {
            "tags": [],
            "needs_background": "light"
          }
        }
      ]
    },
    {
      "cell_type": "markdown",
      "metadata": {
        "id": "ICsxPsgEfmMR"
      },
      "source": [
        "It seems as though there are large outliers in the order amount data. However, it is important to notet that \"order_amount\" represents the total dollar value of an order, regardless of how many items are created. Could the outliers be explained by large item volumes?"
      ]
    },
    {
      "cell_type": "code",
      "metadata": {
        "id": "JKdxZU6Efaxd",
        "colab": {
          "base_uri": "https://localhost:8080/",
          "height": 283
        },
        "outputId": "e7ebda34-6efc-4abb-c9f6-1b044e7ef882"
      },
      "source": [
        "#visualize orders\n",
        "df.boxplot(column='total_items')"
      ],
      "execution_count": 6,
      "outputs": [
        {
          "output_type": "execute_result",
          "data": {
            "text/plain": [
              "<matplotlib.axes._subplots.AxesSubplot at 0x7f6d92efb450>"
            ]
          },
          "metadata": {
            "tags": []
          },
          "execution_count": 6
        },
        {
          "output_type": "display_data",
          "data": {
            "image/png": "[encoded data removed]",
            "text/plain": [
              "<Figure size 432x288 with 1 Axes>"
            ]
          },
          "metadata": {
            "tags": [],
            "needs_background": "light"
          }
        }
      ]
    },
    {
      "cell_type": "markdown",
      "metadata": {
        "id": "bgHseMOUgT1F"
      },
      "source": [
        "It appears someone has ordered a large amount of shoes in single orders, which heavily skews the data. Let's take a look at the order amount with 2000 items."
      ]
    },
    {
      "cell_type": "code",
      "metadata": {
        "id": "X7XfXb5JgNaV",
        "colab": {
          "base_uri": "https://localhost:8080/"
        },
        "outputId": "efb95151-1e1d-4bec-891b-2e18acef46cd"
      },
      "source": [
        "df.loc[df['total_items'] == 2000].count()"
      ],
      "execution_count": 7,
      "outputs": [
        {
          "output_type": "execute_result",
          "data": {
            "text/plain": [
              "order_id          17\n",
              "shop_id           17\n",
              "user_id           17\n",
              "order_amount      17\n",
              "total_items       17\n",
              "payment_method    17\n",
              "created_at        17\n",
              "dtype: int64"
            ]
          },
          "metadata": {
            "tags": []
          },
          "execution_count": 7
        }
      ]
    },
    {
      "cell_type": "code",
      "metadata": {
        "id": "kHcx60DNhP5j",
        "colab": {
          "base_uri": "https://localhost:8080/"
        },
        "outputId": "ce042e46-676f-4ec4-ca39-6b0b750e0aa0"
      },
      "source": [
        "df.loc[df['order_amount'] == 704000].count()"
      ],
      "execution_count": 8,
      "outputs": [
        {
          "output_type": "execute_result",
          "data": {
            "text/plain": [
              "order_id          17\n",
              "shop_id           17\n",
              "user_id           17\n",
              "order_amount      17\n",
              "total_items       17\n",
              "payment_method    17\n",
              "created_at        17\n",
              "dtype: int64"
            ]
          },
          "metadata": {
            "tags": []
          },
          "execution_count": 8
        }
      ]
    },
    {
      "cell_type": "markdown",
      "metadata": {
        "id": "R97ZO99vhoqh"
      },
      "source": [
        "It seems that someone, possibly a reseller, has bought 2000 of one sneaker. On a per-unit basis, the order amount seems reasonable. What could account for the rest of the outliers? Let's make a new column and call it 'price_per_item' to compare shops on a cost basis."
      ]
    },
    {
      "cell_type": "code",
      "metadata": {
        "id": "aSk-MgLAhfUI",
        "colab": {
          "base_uri": "https://localhost:8080/",
          "height": 204
        },
        "outputId": "636d51e0-50e5-4bc2-d44a-9f5e004581ff"
      },
      "source": [
        "df['price_per_item'] = (df['order_amount'] / df['total_items'])\n",
        "df.head()"
      ],
      "execution_count": 9,
      "outputs": [
        {
          "output_type": "execute_result",
          "data": {
            "text/html": [
              "<div>\n",
              "<style scoped>\n",
              "    .dataframe tbody tr th:only-of-type {\n",
              "        vertical-align: middle;\n",
              "    }\n",
              "\n",
              "    .dataframe tbody tr th {\n",
              "        vertical-align: top;\n",
              "    }\n",
              "\n",
              "    .dataframe thead th {\n",
              "        text-align: right;\n",
              "    }\n",
              "</style>\n",
              "<table border=\"1\" class=\"dataframe\">\n",
              "  <thead>\n",
              "    <tr style=\"text-align: right;\">\n",
              "      <th></th>\n",
              "      <th>order_id</th>\n",
              "      <th>shop_id</th>\n",
              "      <th>user_id</th>\n",
              "      <th>order_amount</th>\n",
              "      <th>total_items</th>\n",
              "      <th>payment_method</th>\n",
              "      <th>created_at</th>\n",
              "      <th>price_per_item</th>\n",
              "    </tr>\n",
              "  </thead>\n",
              "  <tbody>\n",
              "    <tr>\n",
              "      <th>0</th>\n",
              "      <td>1</td>\n",
              "      <td>53</td>\n",
              "      <td>746</td>\n",
              "      <td>224</td>\n",
              "      <td>2</td>\n",
              "      <td>cash</td>\n",
              "      <td>2017-03-13 12:36:56.190</td>\n",
              "      <td>112.0</td>\n",
              "    </tr>\n",
              "    <tr>\n",
              "      <th>1</th>\n",
              "      <td>2</td>\n",
              "      <td>92</td>\n",
              "      <td>925</td>\n",
              "      <td>90</td>\n",
              "      <td>1</td>\n",
              "      <td>cash</td>\n",
              "      <td>2017-03-03 17:38:51.999</td>\n",
              "      <td>90.0</td>\n",
              "    </tr>\n",
              "    <tr>\n",
              "      <th>2</th>\n",
              "      <td>3</td>\n",
              "      <td>44</td>\n",
              "      <td>861</td>\n",
              "      <td>144</td>\n",
              "      <td>1</td>\n",
              "      <td>cash</td>\n",
              "      <td>2017-03-14 04:23:55.595</td>\n",
              "      <td>144.0</td>\n",
              "    </tr>\n",
              "    <tr>\n",
              "      <th>3</th>\n",
              "      <td>4</td>\n",
              "      <td>18</td>\n",
              "      <td>935</td>\n",
              "      <td>156</td>\n",
              "      <td>1</td>\n",
              "      <td>credit_card</td>\n",
              "      <td>2017-03-26 12:43:36.649</td>\n",
              "      <td>156.0</td>\n",
              "    </tr>\n",
              "    <tr>\n",
              "      <th>4</th>\n",
              "      <td>5</td>\n",
              "      <td>18</td>\n",
              "      <td>883</td>\n",
              "      <td>156</td>\n",
              "      <td>1</td>\n",
              "      <td>credit_card</td>\n",
              "      <td>2017-03-01 04:35:10.773</td>\n",
              "      <td>156.0</td>\n",
              "    </tr>\n",
              "  </tbody>\n",
              "</table>\n",
              "</div>"
            ],
            "text/plain": [
              "   order_id  shop_id  ...              created_at  price_per_item\n",
              "0         1       53  ... 2017-03-13 12:36:56.190           112.0\n",
              "1         2       92  ... 2017-03-03 17:38:51.999            90.0\n",
              "2         3       44  ... 2017-03-14 04:23:55.595           144.0\n",
              "3         4       18  ... 2017-03-26 12:43:36.649           156.0\n",
              "4         5       18  ... 2017-03-01 04:35:10.773           156.0\n",
              "\n",
              "[5 rows x 8 columns]"
            ]
          },
          "metadata": {
            "tags": []
          },
          "execution_count": 9
        }
      ]
    },
    {
      "cell_type": "markdown",
      "metadata": {
        "id": "pEDLAYiwiPG4"
      },
      "source": [
        "Let's run the same visualizations on the 'price_per_item' column as we did previously."
      ]
    },
    {
      "cell_type": "code",
      "metadata": {
        "id": "vUpHsK7RiA0Q",
        "colab": {
          "base_uri": "https://localhost:8080/",
          "height": 564
        },
        "outputId": "52b8e108-90f2-42db-ef4c-c0849cf416f1"
      },
      "source": [
        "df.boxplot(column='price_per_item')\n",
        "df.hist(column='price_per_item', bins=10)"
      ],
      "execution_count": 10,
      "outputs": [
        {
          "output_type": "execute_result",
          "data": {
            "text/plain": [
              "array([[<matplotlib.axes._subplots.AxesSubplot object at 0x7f6d91de3290>]],\n",
              "      dtype=object)"
            ]
          },
          "metadata": {
            "tags": []
          },
          "execution_count": 10
        },
        {
          "output_type": "display_data",
          "data": {
            "image/png": "[encoded data removed]",
            "text/plain": [
              "<Figure size 432x288 with 1 Axes>"
            ]
          },
          "metadata": {
            "tags": [],
            "needs_background": "light"
          }
        },
        {
          "output_type": "display_data",
          "data": {
            "image/png": "[encoded data removed]",
            "text/plain": [
              "<Figure size 432x288 with 1 Axes>"
            ]
          },
          "metadata": {
            "tags": [],
            "needs_background": "light"
          }
        }
      ]
    },
    {
      "cell_type": "markdown",
      "metadata": {
        "id": "QtU_xdqyipp2"
      },
      "source": [
        "Now, I'm no sneakerhead, but $25k seems quite expensive for a pair of kicks. Since each shop only has one item which is the same, I assume the price per items will have the same value across all shop IDs. Therefore, it will be safe to drop all transactions where the price is 25k - the shop that is selling it."
      ]
    },
    {
      "cell_type": "code",
      "metadata": {
        "id": "KUnD8ljuidSZ",
        "colab": {
          "base_uri": "https://localhost:8080/",
          "height": 419
        },
        "outputId": "93236b50-d5fd-48ae-c097-969632e04e20"
      },
      "source": [
        "normalized_df = df.loc[df['price_per_item'] != 25725.0]\n",
        "normalized_df.sort_values('price_per_item', ascending=False)\n"
      ],
      "execution_count": 11,
      "outputs": [
        {
          "output_type": "execute_result",
          "data": {
            "text/html": [
              "<div>\n",
              "<style scoped>\n",
              "    .dataframe tbody tr th:only-of-type {\n",
              "        vertical-align: middle;\n",
              "    }\n",
              "\n",
              "    .dataframe tbody tr th {\n",
              "        vertical-align: top;\n",
              "    }\n",
              "\n",
              "    .dataframe thead th {\n",
              "        text-align: right;\n",
              "    }\n",
              "</style>\n",
              "<table border=\"1\" class=\"dataframe\">\n",
              "  <thead>\n",
              "    <tr style=\"text-align: right;\">\n",
              "      <th></th>\n",
              "      <th>order_id</th>\n",
              "      <th>shop_id</th>\n",
              "      <th>user_id</th>\n",
              "      <th>order_amount</th>\n",
              "      <th>total_items</th>\n",
              "      <th>payment_method</th>\n",
              "      <th>created_at</th>\n",
              "      <th>price_per_item</th>\n",
              "    </tr>\n",
              "  </thead>\n",
              "  <tbody>\n",
              "    <tr>\n",
              "      <th>4882</th>\n",
              "      <td>4883</td>\n",
              "      <td>42</td>\n",
              "      <td>607</td>\n",
              "      <td>704000</td>\n",
              "      <td>2000</td>\n",
              "      <td>credit_card</td>\n",
              "      <td>2017-03-25 04:00:00.000</td>\n",
              "      <td>352.0</td>\n",
              "    </tr>\n",
              "    <tr>\n",
              "      <th>4326</th>\n",
              "      <td>4327</td>\n",
              "      <td>42</td>\n",
              "      <td>788</td>\n",
              "      <td>704</td>\n",
              "      <td>2</td>\n",
              "      <td>debit</td>\n",
              "      <td>2017-03-16 23:37:56.791</td>\n",
              "      <td>352.0</td>\n",
              "    </tr>\n",
              "    <tr>\n",
              "      <th>1362</th>\n",
              "      <td>1363</td>\n",
              "      <td>42</td>\n",
              "      <td>607</td>\n",
              "      <td>704000</td>\n",
              "      <td>2000</td>\n",
              "      <td>credit_card</td>\n",
              "      <td>2017-03-15 04:00:00.000</td>\n",
              "      <td>352.0</td>\n",
              "    </tr>\n",
              "    <tr>\n",
              "      <th>3651</th>\n",
              "      <td>3652</td>\n",
              "      <td>42</td>\n",
              "      <td>830</td>\n",
              "      <td>352</td>\n",
              "      <td>1</td>\n",
              "      <td>credit_card</td>\n",
              "      <td>2017-03-24 22:26:57.542</td>\n",
              "      <td>352.0</td>\n",
              "    </tr>\n",
              "    <tr>\n",
              "      <th>1367</th>\n",
              "      <td>1368</td>\n",
              "      <td>42</td>\n",
              "      <td>926</td>\n",
              "      <td>1408</td>\n",
              "      <td>4</td>\n",
              "      <td>cash</td>\n",
              "      <td>2017-03-13 02:38:33.953</td>\n",
              "      <td>352.0</td>\n",
              "    </tr>\n",
              "    <tr>\n",
              "      <th>...</th>\n",
              "      <td>...</td>\n",
              "      <td>...</td>\n",
              "      <td>...</td>\n",
              "      <td>...</td>\n",
              "      <td>...</td>\n",
              "      <td>...</td>\n",
              "      <td>...</td>\n",
              "      <td>...</td>\n",
              "    </tr>\n",
              "    <tr>\n",
              "      <th>3200</th>\n",
              "      <td>3201</td>\n",
              "      <td>92</td>\n",
              "      <td>858</td>\n",
              "      <td>90</td>\n",
              "      <td>1</td>\n",
              "      <td>cash</td>\n",
              "      <td>2017-03-25 15:14:49.874</td>\n",
              "      <td>90.0</td>\n",
              "    </tr>\n",
              "    <tr>\n",
              "      <th>590</th>\n",
              "      <td>591</td>\n",
              "      <td>92</td>\n",
              "      <td>967</td>\n",
              "      <td>90</td>\n",
              "      <td>1</td>\n",
              "      <td>debit</td>\n",
              "      <td>2017-03-28 22:56:22.880</td>\n",
              "      <td>90.0</td>\n",
              "    </tr>\n",
              "    <tr>\n",
              "      <th>3187</th>\n",
              "      <td>3188</td>\n",
              "      <td>92</td>\n",
              "      <td>854</td>\n",
              "      <td>90</td>\n",
              "      <td>1</td>\n",
              "      <td>credit_card</td>\n",
              "      <td>2017-03-08 18:16:24.603</td>\n",
              "      <td>90.0</td>\n",
              "    </tr>\n",
              "    <tr>\n",
              "      <th>2912</th>\n",
              "      <td>2913</td>\n",
              "      <td>92</td>\n",
              "      <td>942</td>\n",
              "      <td>180</td>\n",
              "      <td>2</td>\n",
              "      <td>debit</td>\n",
              "      <td>2017-03-18 11:43:55.340</td>\n",
              "      <td>90.0</td>\n",
              "    </tr>\n",
              "    <tr>\n",
              "      <th>1890</th>\n",
              "      <td>1891</td>\n",
              "      <td>92</td>\n",
              "      <td>824</td>\n",
              "      <td>180</td>\n",
              "      <td>2</td>\n",
              "      <td>debit</td>\n",
              "      <td>2017-03-12 08:14:35.574</td>\n",
              "      <td>90.0</td>\n",
              "    </tr>\n",
              "  </tbody>\n",
              "</table>\n",
              "<p>4954 rows × 8 columns</p>\n",
              "</div>"
            ],
            "text/plain": [
              "      order_id  shop_id  ...              created_at  price_per_item\n",
              "4882      4883       42  ... 2017-03-25 04:00:00.000           352.0\n",
              "4326      4327       42  ... 2017-03-16 23:37:56.791           352.0\n",
              "1362      1363       42  ... 2017-03-15 04:00:00.000           352.0\n",
              "3651      3652       42  ... 2017-03-24 22:26:57.542           352.0\n",
              "1367      1368       42  ... 2017-03-13 02:38:33.953           352.0\n",
              "...        ...      ...  ...                     ...             ...\n",
              "3200      3201       92  ... 2017-03-25 15:14:49.874            90.0\n",
              "590        591       92  ... 2017-03-28 22:56:22.880            90.0\n",
              "3187      3188       92  ... 2017-03-08 18:16:24.603            90.0\n",
              "2912      2913       92  ... 2017-03-18 11:43:55.340            90.0\n",
              "1890      1891       92  ... 2017-03-12 08:14:35.574            90.0\n",
              "\n",
              "[4954 rows x 8 columns]"
            ]
          },
          "metadata": {
            "tags": []
          },
          "execution_count": 11
        }
      ]
    },
    {
      "cell_type": "markdown",
      "metadata": {
        "id": "FUZpP9dwy6F6"
      },
      "source": [
        "We'll use Grubb's test to see if outliers still exist in the data set, and if so, we must examine if they are justified give the type of data. \n",
        "\n",
        "G=max|Yi−Y¯|s"
      ]
    },
    {
      "cell_type": "code",
      "metadata": {
        "colab": {
          "base_uri": "https://localhost:8080/"
        },
        "id": "YnMbgHaDwN-K",
        "outputId": "09d30a51-e65b-44e7-8713-c96ebb62ba0c"
      },
      "source": [
        "from outliers import smirnov_grubbs as grubbs\n",
        "\n",
        "gtest_index = grubbs.max_test_outliers(normalized_df['price_per_item'], alpha=0.05)\n",
        "\n",
        "original_data_outlier_test = grubbs.max_test_outliers(df['price_per_item'], alpha=0.05)\n",
        "\n",
        "print(\n",
        "    'Normalized Data: ', gtest_index, 'Original Data: ', original_data_outlier_test\n",
        "    )\n",
        "\n",
        "#Grubb's test is great for data with one outlier. This is the case with the \"price_per_item\" column.\n"
      ],
      "execution_count": 12,
      "outputs": [
        {
          "output_type": "stream",
          "text": [
            "Normalized Data:  [352.0] Original Data:  [25725.0]\n"
          ],
          "name": "stdout"
        }
      ]
    },
    {
      "cell_type": "markdown",
      "metadata": {
        "id": "n4y9sIGs0rd9"
      },
      "source": [
        "It appears there is one outlier remaining in the data. Looking at the charts below, it looks like the price per items form a normal distribution (even slightly skewed to the left) if not for the outlier. \n",
        "\n",
        "It's only $350 - reasonable for higher-end shoes these days. I noticed it's corresponding to high order amounts and item counts. I wouldn't be suprised if someone used a \"sneaker bot\" - [a web crawler that can check out thousands of items within seconds](https://datadome.co/bot-detection/how-to-detect-block-manage-sneaker-bots/) - to purchase that volume.\n",
        "\n",
        "Regardless, it seems like it can be explained qualitatively and does not require progamatic removal using an interquartile range (as shown below)."
      ]
    },
    {
      "cell_type": "code",
      "metadata": {
        "id": "Mi5vTD2onaC8",
        "colab": {
          "base_uri": "https://localhost:8080/",
          "height": 315
        },
        "outputId": "60583685-53c8-4149-acc6-7490562731c4"
      },
      "source": [
        "normalized_df.hist(column='price_per_item')"
      ],
      "execution_count": 13,
      "outputs": [
        {
          "output_type": "execute_result",
          "data": {
            "text/plain": [
              "array([[<matplotlib.axes._subplots.AxesSubplot object at 0x7f6d92d1a2d0>]],\n",
              "      dtype=object)"
            ]
          },
          "metadata": {
            "tags": []
          },
          "execution_count": 13
        },
        {
          "output_type": "display_data",
          "data": {
            "image/png": "[encoded data removed]",
            "text/plain": [
              "<Figure size 432x288 with 1 Axes>"
            ]
          },
          "metadata": {
            "tags": [],
            "needs_background": "light"
          }
        }
      ]
    },
    {
      "cell_type": "code",
      "metadata": {
        "colab": {
          "base_uri": "https://localhost:8080/",
          "height": 283
        },
        "id": "Fl9AHTz3vJ7U",
        "outputId": "f3336fd4-da85-4861-81de-ebc11eeb5648"
      },
      "source": [
        "q1 = df.price_per_item.quantile(q=0.25)\n",
        "q2 = df.price_per_item.quantile(q=0.5)\n",
        "q3 = df.price_per_item.quantile(q=0.75)\n",
        "IQR = q3 - q1\n",
        "\n",
        "iqr_df = df[(df.price_per_item < q2 + IQR * 1.5) & (df.price_per_item > q2 - IQR * 1.5)]\n",
        "iqr_df.boxplot(column='price_per_item')\n",
        "\n",
        "#As noted above, this is not required!"
      ],
      "execution_count": 14,
      "outputs": [
        {
          "output_type": "execute_result",
          "data": {
            "text/plain": [
              "<matplotlib.axes._subplots.AxesSubplot at 0x7f6d83d46a90>"
            ]
          },
          "metadata": {
            "tags": []
          },
          "execution_count": 14
        },
        {
          "output_type": "display_data",
          "data": {
            "image/png": "[encoded data removed]",
            "text/plain": [
              "<Figure size 432x288 with 1 Axes>"
            ]
          },
          "metadata": {
            "tags": [],
            "needs_background": "light"
          }
        }
      ]
    },
    {
      "cell_type": "markdown",
      "metadata": {
        "id": "kYa_ryHq28Ou"
      },
      "source": [
        "**What metric would you report for this dataset?**\n",
        "\n",
        "In examining the data, it is important to realize that the wide outliers in order amounts represents different types of consumers. It is unrepresentative of the data to take the AOV or even the median order value (MOV) since there are many different buyers with many different preferences. Therefore, I propose that customer's order volumes be categorized by decile order amounts. Different marketing strategies can be applied to consumers in different deciles of order amounts. The metric that should be used should be MOV to adjust for large outliers that may skew the data, but it also should be grouped by decile. \n",
        "\n",
        "This way, important e-commerce metrics like customer acquisition cost (CAC) and lifetime value (LTV) can be based on customers of differing spending amounts. Morever, it could lead to more interesting statistical analysis/forecasting such as cluster analysis, K-Nearest Neighbours algorithms, regressions and other machine learning processing. \n",
        "\n",
        "For example, lower decile buyers may be more price elastic than uppper decile buyers which can be tested with regressions using income differencing. We could prepare for recessions by stocking up on items that upper decile buyers tend to purchase. "
      ]
    },
    {
      "cell_type": "markdown",
      "metadata": {
        "id": "M07Dtg0728os"
      },
      "source": [
        "Metric Calculation: \n",
        "\n",
        "Without removing the wide outliers, the 10th decile AOV will be heavily skewed as a result of large order volumes. MOV solves this. \n"
      ]
    },
    {
      "cell_type": "code",
      "metadata": {
        "id": "WQI1LCwev723",
        "colab": {
          "base_uri": "https://localhost:8080/"
        },
        "outputId": "a93753d0-5ec1-4bcb-a562-4bf37062dd59"
      },
      "source": [
        "aov_decile = normalized_df.groupby(pd.qcut(normalized_df.order_amount, 10,labels=range(1, 11)))['order_amount'].mean()\n",
        "aov_decile_bins = normalized_df.groupby(pd.qcut(normalized_df.order_amount, 10))['order_amount'].mean()\n",
        "aov_decile_bins"
      ],
      "execution_count": 15,
      "outputs": [
        {
          "output_type": "execute_result",
          "data": {
            "text/plain": [
              "order_amount\n",
              "(89.999, 133.0]        120.684803\n",
              "(133.0, 156.0]         146.781853\n",
              "(156.0, 176.0]         165.726872\n",
              "(176.0, 236.0]         200.560784\n",
              "(236.0, 284.0]         266.580645\n",
              "(284.0, 320.0]         305.991507\n",
              "(320.0, 354.0]         339.237354\n",
              "(354.0, 435.0]         390.955975\n",
              "(435.0, 528.0]         481.347656\n",
              "(528.0, 704000.0]    26141.377399\n",
              "Name: order_amount, dtype: float64"
            ]
          },
          "metadata": {
            "tags": []
          },
          "execution_count": 15
        }
      ]
    },
    {
      "cell_type": "code",
      "metadata": {
        "colab": {
          "base_uri": "https://localhost:8080/"
        },
        "id": "ZjOr-mOhGonN",
        "outputId": "2a6751af-c4b2-4593-c950-0373d2c6b1f5"
      },
      "source": [
        "mov_decile = normalized_df.groupby(pd.qcut(normalized_df.order_amount, 10,labels=range(1, 11)))['order_amount'].median()\n",
        "mov_decile_bins = normalized_df.groupby(pd.qcut(normalized_df.order_amount, 10))['order_amount'].median()\n",
        "mov_decile_bins"
      ],
      "execution_count": 16,
      "outputs": [
        {
          "output_type": "execute_result",
          "data": {
            "text/plain": [
              "order_amount\n",
              "(89.999, 133.0]      127\n",
              "(133.0, 156.0]       147\n",
              "(156.0, 176.0]       164\n",
              "(176.0, 236.0]       195\n",
              "(236.0, 284.0]       266\n",
              "(284.0, 320.0]       306\n",
              "(320.0, 354.0]       338\n",
              "(354.0, 435.0]       390\n",
              "(435.0, 528.0]       480\n",
              "(528.0, 704000.0]    612\n",
              "Name: order_amount, dtype: int64"
            ]
          },
          "metadata": {
            "tags": []
          },
          "execution_count": 16
        }
      ]
    },
    {
      "cell_type": "code",
      "metadata": {
        "colab": {
          "base_uri": "https://localhost:8080/",
          "height": 300
        },
        "id": "6VOg49WPGqiD",
        "outputId": "296f4e1c-2788-4069-ec4a-e4f40fbc672a"
      },
      "source": [
        "#Plot:\n",
        "mov_decile.plot(kind='bar')"
      ],
      "execution_count": 17,
      "outputs": [
        {
          "output_type": "execute_result",
          "data": {
            "text/plain": [
              "<matplotlib.axes._subplots.AxesSubplot at 0x7f6d83cad550>"
            ]
          },
          "metadata": {
            "tags": []
          },
          "execution_count": 17
        },
        {
          "output_type": "display_data",
          "data": {
            "image/png": "[encoded data removed]",
            "text/plain": [
              "<Figure size 432x288 with 1 Axes>"
            ]
          },
          "metadata": {
            "tags": [],
            "needs_background": "light"
          }
        }
      ]
    },
    {
      "cell_type": "markdown",
      "metadata": {
        "id": "W4n0RL-jKj7w"
      },
      "source": [
        "**Question 2**\n",
        "a) How many orders were shipped by Speedy Express in total?\n",
        "\n",
        "Answer: 54"
      ]
    },
    {
      "cell_type": "code",
      "metadata": {
        "colab": {
          "base_uri": "https://localhost:8080/",
          "height": 35
        },
        "id": "wRkYM1BwIDOD",
        "outputId": "dd352a27-1d72-48d2-a95d-991362446699"
      },
      "source": [
        "'''\n",
        "SELECT COUNT(*)\n",
        "FROM Orders AS o, Shippers AS s\n",
        "WHERE o.ShipperId = s.ShipperId AND ShipperName = \"Speedy Express\"; \n",
        "'''"
      ],
      "execution_count": 18,
      "outputs": [
        {
          "output_type": "execute_result",
          "data": {
            "application/vnd.google.colaboratory.intrinsic+json": {
              "type": "string"
            },
            "text/plain": [
              "'\\nSELECT COUNT(*)\\nFROM Orders AS o, Shippers AS s\\nWHERE o.ShipperId = s.ShipperId AND ShipperName = \"Speedy Express\"; \\n'"
            ]
          },
          "metadata": {
            "tags": []
          },
          "execution_count": 18
        }
      ]
    },
    {
      "cell_type": "markdown",
      "metadata": {
        "id": "D0nkiW0QKkXb"
      },
      "source": [
        "b) What is the last name of the employee with the most orders?\n",
        "\n",
        "Answer: Handel"
      ]
    },
    {
      "cell_type": "code",
      "metadata": {
        "id": "leVLQXRpKgqi",
        "colab": {
          "base_uri": "https://localhost:8080/",
          "height": 35
        },
        "outputId": "8f42b695-d5ab-4320-b886-ec928dfcf2e4"
      },
      "source": [
        "'''\n",
        "SELECT c.CustomerName, COUNT(*) AS Count\n",
        "FROM Orders AS o, Customers AS c\n",
        "WHERE o.CustomerID = c.CustomerID\n",
        "GROUP BY o.CustomerID\n",
        "ORDER BY Count DESC\n",
        "LIMIT 1;\n",
        "'''"
      ],
      "execution_count": 19,
      "outputs": [
        {
          "output_type": "execute_result",
          "data": {
            "application/vnd.google.colaboratory.intrinsic+json": {
              "type": "string"
            },
            "text/plain": [
              "'\\nSELECT c.CustomerName, COUNT(*) AS Count\\nFROM Orders AS o, Customers AS c\\nWHERE o.CustomerID = c.CustomerID\\nGROUP BY o.CustomerID\\nORDER BY Count DESC\\nLIMIT 1;\\n'"
            ]
          },
          "metadata": {
            "tags": []
          },
          "execution_count": 19
        }
      ]
    },
    {
      "cell_type": "markdown",
      "metadata": {
        "id": "A4avY8UOKlYa"
      },
      "source": [
        "c) What product was ordered the most by customers in Germany?\n",
        "\n",
        "Answer: Boston Crab Meat"
      ]
    },
    {
      "cell_type": "code",
      "metadata": {
        "id": "vDBctAfmKlF_",
        "colab": {
          "base_uri": "https://localhost:8080/",
          "height": 52
        },
        "outputId": "2b87b8fe-48b1-4f4f-eb01-8343f8121721"
      },
      "source": [
        "'''\n",
        "SELECT p.ProductID, p.ProductName, SUM(Quantity) AS TotalQuantity\n",
        "FROM Orders AS o, OrderDetails AS od, Customers AS c, Products AS p\n",
        "WHERE c.Country = \"Germany\" AND od.OrderID = o.OrderID AND od.ProductID = p.ProductID AND c.CustomerID = o.CustomerID\n",
        "GROUP BY p.ProductID\n",
        "ORDER BY TotalQuantity DESC\n",
        "LIMIT 1;\n",
        "'''"
      ],
      "execution_count": 20,
      "outputs": [
        {
          "output_type": "execute_result",
          "data": {
            "application/vnd.google.colaboratory.intrinsic+json": {
              "type": "string"
            },
            "text/plain": [
              "'\\nSELECT p.ProductID, p.ProductName, SUM(Quantity) AS TotalQuantity\\nFROM Orders AS o, OrderDetails AS od, Customers AS c, Products AS p\\nWHERE c.Country = \"Germany\" AND od.OrderID = o.OrderID AND od.ProductID = p.ProductID AND c.CustomerID = o.CustomerID\\nGROUP BY p.ProductID\\nORDER BY TotalQuantity DESC\\nLIMIT 1;\\n'"
            ]
          },
          "metadata": {
            "tags": []
          },
          "execution_count": 20
        }
      ]
    }
  ]
}